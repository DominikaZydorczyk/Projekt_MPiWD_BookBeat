{
 "cells": [
  {
   "cell_type": "code",
   "execution_count": 1,
   "id": "a3cb170a-e48e-4b84-b5dc-5a3b7f3e2107",
   "metadata": {},
   "outputs": [],
   "source": [
    "#!py -m pip install selenium\n",
    "#!py -m pip install webdriver_manager"
   ]
  },
  {
   "cell_type": "code",
   "execution_count": 2,
   "id": "66992476-91b0-4c0c-83eb-a9a742d0b82d",
   "metadata": {},
   "outputs": [],
   "source": [
    "from selenium import webdriver\n",
    "from selenium.webdriver.common.by import By\n",
    "from selenium.webdriver.chrome.service import Service\n",
    "from selenium.webdriver.support.ui import WebDriverWait\n",
    "from selenium.webdriver.support import expected_conditions as EC\n",
    "from webdriver_manager.chrome import ChromeDriverManager\n",
    "import time\n",
    "import pandas as pd"
   ]
  },
  {
   "cell_type": "code",
   "execution_count": 3,
   "id": "e4460bee-bbca-4ad5-a422-aba3f8b42f7a",
   "metadata": {},
   "outputs": [],
   "source": [
    "# Funkcja do scrapowania danych o książce\n",
    "def scrape_book_details(driver, url, xpaths):\n",
    "    results = {}\n",
    "    try:\n",
    "        driver.get(url)\n",
    "        wait = WebDriverWait(driver, 1.5)\n",
    "\n",
    "        # Akceptowanie ciasteczek\n",
    "        try:\n",
    "            accept_cookies_button = wait.until(\n",
    "                EC.presence_of_element_located((By.ID, \"onetrust-accept-btn-handler\"))\n",
    "            )\n",
    "            driver.execute_script(\"arguments[0].scrollIntoView(true);\", accept_cookies_button)\n",
    "            time.sleep(1)\n",
    "            driver.execute_script(\"arguments[0].click();\", accept_cookies_button)\n",
    "        except Exception:\n",
    "            pass\n",
    "\n",
    "        # Klikanie \"Pokaż więcej\" (jeśli dostępne)\n",
    "        try:\n",
    "            show_more_button = wait.until(\n",
    "                EC.presence_of_element_located((By.XPATH, '/html/body/div[1]/div[1]/div[2]/main/section[3]/div/div[1]/div/button'))\n",
    "            )\n",
    "            if show_more_button.is_displayed() and show_more_button.is_enabled():\n",
    "                driver.execute_script(\"arguments[0].scrollIntoView({block: 'center'});\", show_more_button)\n",
    "                time.sleep(1)\n",
    "                show_more_button.click()\n",
    "        except Exception:\n",
    "            pass\n",
    "\n",
    "        # Scrapowanie elementów\n",
    "        for name, xpath in xpaths.items():\n",
    "            try:\n",
    "                if name == \"Category\":\n",
    "                    elements = driver.find_elements(By.XPATH, xpath)\n",
    "                    categories = [el.text for el in elements]\n",
    "                    results[name] = \", \".join(categories) if categories else \"NA\"\n",
    "                else:\n",
    "                    element = driver.find_element(By.XPATH, xpath)\n",
    "                    results[name] = element.text\n",
    "            except Exception:\n",
    "                results[name] = \"NA\"\n",
    "\n",
    "            # Autor\n",
    "            try:\n",
    "                single_author_xpath = \"/html/body/div[1]/div[1]/div[2]/main/section[3]/div/div[2]/a[1]/div/div/span\"\n",
    "                multiple_authors_xpath = \"/html/body/div[1]/div[1]/div[2]/main/section[3]/div/div[2]/div[1]/div[2]/div/a/span\"\n",
    "                elements = driver.find_elements(By.XPATH, multiple_authors_xpath)\n",
    "                if elements:\n",
    "                    results[\"Author\"] = \", \".join([el.text for el in elements])  # Łączy autorów w jeden ciąg\n",
    "                else:\n",
    "                    results[\"Author\"] = driver.find_element(By.XPATH, single_author_xpath).text  # Pojedynczy autor\n",
    "            except Exception:\n",
    "                results[\"Author\"] = \"NA\"\n",
    "\n",
    "            # Lektor\n",
    "            try:\n",
    "                single_lector_xpath = \"/html/body/div[1]/div[1]/div[2]/main/section[3]/div/div[2]/a[2]/div/div/span\"\n",
    "                multiple_lectors_xpath = \"/html/body/div[1]/div[1]/div[2]/main/section[3]/div/div[2]/div[2]/div[2]/div/a/span\"\n",
    "                elements = driver.find_elements(By.XPATH, multiple_lectors_xpath)\n",
    "                if elements:\n",
    "                    results[\"Lector\"] = \", \".join([el.text for el in elements])  # Łączy lektorów w jeden ciąg\n",
    "                else:\n",
    "                    results[\"Lector\"] = driver.find_element(By.XPATH, single_lector_xpath).text  # Pojedynczy lektor\n",
    "            except Exception:\n",
    "                results[\"Lector\"] = \"NA\"\n",
    "\n",
    "        # Scrapowanie daty publikacji\n",
    "        try:\n",
    "            publication_date = wait.until(\n",
    "                EC.presence_of_element_located((By.XPATH, '/html/body/div[1]/div[1]/div[2]/main/section[3]/div/div[1]/div/div/div/div[1]/p[2]'))\n",
    "            ).text\n",
    "            results[\"Publication_Date\"] = publication_date\n",
    "        except Exception:\n",
    "            results[\"Publication_Date\"] = \"NA\"\n",
    "\n",
    "        # Scrapowanie informacji o tomie (serii)\n",
    "        try:\n",
    "            volume_info = driver.find_element(\n",
    "                By.XPATH, '/html/body/div[1]/div[1]/div[2]/main/section[3]/div/div[2]/a[3]/div/div/span'\n",
    "            ).text\n",
    "            results[\"Volume_Info\"] = volume_info\n",
    "        except Exception:\n",
    "            results[\"Volume_Info\"] = \"Nie dotyczy\"\n",
    "\n",
    "    except Exception as e:\n",
    "        print(f\"Error scraping book details: {e}\")\n",
    "    return results"
   ]
  },
  {
   "cell_type": "code",
   "execution_count": 4,
   "id": "07cda1c9-4af3-4efc-a510-08d948d0497a",
   "metadata": {},
   "outputs": [],
   "source": [
    "# Funkcja do scrapowania linków książek z podstrony\n",
    "def get_book_links(driver, url):\n",
    "    links = []\n",
    "    try:\n",
    "        driver.get(url)\n",
    "        elements = driver.find_elements(By.CSS_SELECTOR, \"a.typography_root__26lgA\")\n",
    "        for element in elements:\n",
    "            href = element.get_attribute(\"href\")\n",
    "            if href and \"https://www.bookbeat.com/pl/book/\" in href:\n",
    "                links.append(href)\n",
    "    except Exception as e:\n",
    "        print(f\"Error scraping links: {e}\")\n",
    "    return links\n"
   ]
  },
  {
   "cell_type": "code",
   "execution_count": 5,
   "id": "bba1f841-ffe9-409e-a842-e31071040a79",
   "metadata": {},
   "outputs": [],
   "source": [
    "# Główna pętla\n",
    "base_url = \"https://www.bookbeat.com/pl/search?page={}&query=Polski&Category=148\"\n",
    "all_books_data = []\n"
   ]
  },
  {
   "cell_type": "code",
   "execution_count": 6,
   "id": "f346d3a7-e632-4fad-8f01-48c7033cd1d9",
   "metadata": {},
   "outputs": [],
   "source": [
    "# Definiowanie XPath-ów\n",
    "xpaths = {\n",
    "    \"Title\": \"/html/body/div[1]/div[1]/div[2]/main/section[2]/div/div/div[1]/h1\",\n",
    "    \"Book_Score\": \"/html/body/div[1]/div[1]/div[2]/main/section[3]/div/button/div/figure[1]/div/figcaption\",\n",
    "    \"Number_of_ratings_book\": \"/html/body/div[1]/div[1]/div[2]/main/section[4]/div/div/div/div/div[2]/figure[1]/p\",\n",
    "    \"Lector_Score\": \"/html/body/div[1]/div[1]/div[2]/main/section[3]/div/button/div/figure[2]/div/figcaption\",\n",
    "    \"Number_of_ratings_lector\": \"/html/body/div[1]/div[1]/div[2]/main/section[4]/div/div/div/div/div[2]/figure[2]/p\",\n",
    "    \"Duration\": \"/html/body/div[1]/div[1]/div[2]/main/section[3]/div/div[2]/span/div/span\",\n",
    "    \"Category\": \"/html/body/div[1]/div[1]/div[2]/main/section[3]/div/div[3]/div[1]/div/div[1]/div/a\",\n",
    "    \"Format\": \"/html/body/div[1]/div[1]/div[2]/main/section[3]/div/div[3]/div[1]/div/div[2]/div/a\",\n",
    "    \"Language\": \"/html/body/div[1]/div[1]/div[2]/main/section[3]/div/div[3]/div[1]/div/div[3]/p[2]\",\n",
    "}"
   ]
  },
  {
   "cell_type": "code",
   "execution_count": 28,
   "id": "7789d3eb-9610-435d-82b5-99b8c51db3f5",
   "metadata": {},
   "outputs": [
    {
     "name": "stdout",
     "output_type": "stream",
     "text": [
      "Znaleziono 50 linków na stronie 1.\n",
      "Znaleziono 50 linków na stronie 2.\n",
      "Znaleziono 50 linków na stronie 3.\n",
      "Znaleziono 50 linków na stronie 4.\n",
      "Znaleziono 50 linków na stronie 5.\n",
      "Znaleziono 50 linków na stronie 6.\n",
      "Znaleziono 50 linków na stronie 7.\n",
      "Znaleziono 50 linków na stronie 8.\n",
      "Znaleziono 50 linków na stronie 9.\n",
      "Znaleziono 0 linków na stronie 10.\n",
      "Znaleziono 50 linków na stronie 11.\n",
      "Znaleziono 50 linków na stronie 12.\n",
      "Znaleziono 0 linków na stronie 13.\n",
      "Znaleziono 50 linków na stronie 14.\n",
      "Znaleziono 50 linków na stronie 15.\n",
      "Znaleziono 50 linków na stronie 16.\n",
      "Znaleziono 50 linków na stronie 17.\n",
      "Znaleziono 50 linków na stronie 18.\n",
      "Znaleziono 0 linków na stronie 19.\n",
      "Znaleziono 0 linków na stronie 20.\n"
     ]
    }
   ],
   "source": [
    "# Tworzenie przeglądarki tylko raz 1\n",
    "options = webdriver.ChromeOptions()\n",
    "options.add_argument(\"--headless\")\n",
    "driver = webdriver.Chrome(service=Service(ChromeDriverManager().install()), options=options)\n",
    "\n",
    "try:\n",
    "    # Przejście przez strony z wynikami wyszukiwania\n",
    "    for page in range(1, 21):  # Możesz dostosować liczbę stron\n",
    "        page_url = base_url.format(page)\n",
    "        book_links = get_book_links(driver, page_url)\n",
    "        print(f\"Znaleziono {len(book_links)} linków na stronie {page}.\")\n",
    "        \n",
    "        for book_url in book_links:\n",
    "            book_data = scrape_book_details(driver, book_url, xpaths)\n",
    "            all_books_data.append(book_data)\n",
    "\n",
    "finally:\n",
    "    driver.quit() "
   ]
  },
  {
   "cell_type": "code",
   "execution_count": 8,
   "id": "3959a217-ce8e-4989-bea8-0b48bbb1b645",
   "metadata": {},
   "outputs": [
    {
     "name": "stdout",
     "output_type": "stream",
     "text": [
      "Dane zostały zapisane do pliku 'book1_20.csv'\n"
     ]
    }
   ],
   "source": [
    "# Tworzenie DataFrame i zapis do CSV\n",
    "df = pd.DataFrame(all_books_data)\n",
    "df.to_csv(\"book1_20.csv\", index=False, encoding=\"utf-8\")\n",
    "\n",
    "print(\"Dane zostały zapisane do pliku 'book1_20.csv'\")"
   ]
  },
  {
   "cell_type": "code",
   "execution_count": 9,
   "id": "02e51873-2324-4b72-9123-176db6b00a95",
   "metadata": {},
   "outputs": [
    {
     "name": "stdout",
     "output_type": "stream",
     "text": [
      "Znaleziono 50 linków na stronie 21.\n",
      "Znaleziono 0 linków na stronie 22.\n",
      "Znaleziono 50 linków na stronie 23.\n",
      "Znaleziono 50 linków na stronie 24.\n",
      "Znaleziono 0 linków na stronie 25.\n",
      "Znaleziono 50 linków na stronie 26.\n",
      "Znaleziono 50 linków na stronie 27.\n",
      "Znaleziono 0 linków na stronie 28.\n",
      "Znaleziono 0 linków na stronie 29.\n",
      "Znaleziono 0 linków na stronie 30.\n",
      "Znaleziono 50 linków na stronie 31.\n",
      "Znaleziono 0 linków na stronie 32.\n",
      "Znaleziono 50 linków na stronie 33.\n",
      "Znaleziono 50 linków na stronie 34.\n",
      "Znaleziono 50 linków na stronie 35.\n",
      "Znaleziono 0 linków na stronie 36.\n",
      "Znaleziono 0 linków na stronie 37.\n",
      "Znaleziono 0 linków na stronie 38.\n",
      "Znaleziono 50 linków na stronie 39.\n",
      "Znaleziono 0 linków na stronie 40.\n"
     ]
    }
   ],
   "source": [
    "# Tworzenie przeglądarki tylko raz 2\n",
    "options = webdriver.ChromeOptions()\n",
    "options.add_argument(\"--headless\")\n",
    "driver = webdriver.Chrome(service=Service(ChromeDriverManager().install()), options=options)\n",
    "\n",
    "try:\n",
    "    # Przejście przez strony z wynikami wyszukiwania\n",
    "    for page in range(21, 41):  # Możesz dostosować liczbę stron\n",
    "        page_url = base_url.format(page)\n",
    "        book_links = get_book_links(driver, page_url)\n",
    "        print(f\"Znaleziono {len(book_links)} linków na stronie {page}.\")\n",
    "        \n",
    "        for book_url in book_links:\n",
    "            book_data = scrape_book_details(driver, book_url, xpaths)\n",
    "            all_books_data.append(book_data)\n",
    "\n",
    "finally:\n",
    "    driver.quit() "
   ]
  },
  {
   "cell_type": "code",
   "execution_count": 10,
   "id": "534db11a-0466-46d0-8dc5-cd33aba2449e",
   "metadata": {},
   "outputs": [
    {
     "name": "stdout",
     "output_type": "stream",
     "text": [
      "Dane zostały zapisane do pliku 'book21_40.csv'\n"
     ]
    }
   ],
   "source": [
    "# Tworzenie DataFrame i zapis do CSV\n",
    "df = pd.DataFrame(all_books_data)\n",
    "df.to_csv(\"book21_40.csv\", index=False, encoding=\"utf-8\")\n",
    "\n",
    "print(\"Dane zostały zapisane do pliku 'book21_40.csv'\")"
   ]
  },
  {
   "cell_type": "code",
   "execution_count": 27,
   "id": "53e25585-bc00-4f68-b44d-4444b27a00c8",
   "metadata": {},
   "outputs": [
    {
     "name": "stdout",
     "output_type": "stream",
     "text": [
      "Znaleziono 50 linków na stronie 41.\n",
      "Znaleziono 0 linków na stronie 42.\n",
      "Znaleziono 0 linków na stronie 43.\n",
      "Znaleziono 0 linków na stronie 44.\n",
      "Znaleziono 50 linków na stronie 45.\n",
      "Znaleziono 50 linków na stronie 46.\n",
      "Znaleziono 50 linków na stronie 47.\n",
      "Znaleziono 50 linków na stronie 48.\n",
      "Znaleziono 0 linków na stronie 49.\n",
      "Znaleziono 50 linków na stronie 50.\n",
      "Znaleziono 50 linków na stronie 51.\n",
      "Znaleziono 50 linków na stronie 52.\n",
      "Znaleziono 50 linków na stronie 53.\n",
      "Znaleziono 50 linków na stronie 54.\n",
      "Znaleziono 50 linków na stronie 55.\n",
      "Znaleziono 50 linków na stronie 56.\n",
      "Znaleziono 50 linków na stronie 57.\n",
      "Znaleziono 50 linków na stronie 58.\n",
      "Znaleziono 0 linków na stronie 59.\n",
      "Znaleziono 50 linków na stronie 60.\n"
     ]
    }
   ],
   "source": [
    "# Tworzenie przeglądarki tylko raz 3\n",
    "options = webdriver.ChromeOptions()\n",
    "options.add_argument(\"--headless\")\n",
    "driver = webdriver.Chrome(service=Service(ChromeDriverManager().install()), options=options)\n",
    "\n",
    "try:\n",
    "    # Przejście przez strony z wynikami wyszukiwania\n",
    "    for page in range(41, 61):  # Możesz dostosować liczbę stron\n",
    "        page_url = base_url.format(page)\n",
    "        book_links = get_book_links(driver, page_url)\n",
    "        print(f\"Znaleziono {len(book_links)} linków na stronie {page}.\")\n",
    "        \n",
    "        for book_url in book_links:\n",
    "            book_data = scrape_book_details(driver, book_url, xpaths)\n",
    "            all_books_data.append(book_data)\n",
    "\n",
    "finally:\n",
    "    driver.quit() "
   ]
  },
  {
   "cell_type": "code",
   "execution_count": 12,
   "id": "ead4e198-222d-46e9-8e8d-9890bb613328",
   "metadata": {},
   "outputs": [
    {
     "name": "stdout",
     "output_type": "stream",
     "text": [
      "Dane zostały zapisane do pliku 'book41_60.csv'\n"
     ]
    }
   ],
   "source": [
    "# Tworzenie DataFrame i zapis do CSV\n",
    "df = pd.DataFrame(all_books_data)\n",
    "df.to_csv(\"book41_60.csv\", index=False, encoding=\"utf-8\")\n",
    "\n",
    "print(\"Dane zostały zapisane do pliku 'book41_60.csv'\")"
   ]
  },
  {
   "cell_type": "code",
   "execution_count": 13,
   "id": "b6cb5608-d17b-402c-aeac-88d15a665f31",
   "metadata": {},
   "outputs": [
    {
     "name": "stdout",
     "output_type": "stream",
     "text": [
      "Znaleziono 50 linków na stronie 61.\n",
      "Znaleziono 50 linków na stronie 62.\n",
      "Znaleziono 0 linków na stronie 63.\n",
      "Znaleziono 0 linków na stronie 64.\n",
      "Znaleziono 0 linków na stronie 65.\n",
      "Znaleziono 50 linków na stronie 66.\n",
      "Znaleziono 50 linków na stronie 67.\n",
      "Znaleziono 0 linków na stronie 68.\n",
      "Znaleziono 0 linków na stronie 69.\n",
      "Znaleziono 0 linków na stronie 70.\n",
      "Znaleziono 50 linków na stronie 71.\n",
      "Znaleziono 50 linków na stronie 72.\n",
      "Znaleziono 50 linków na stronie 73.\n",
      "Znaleziono 50 linków na stronie 74.\n",
      "Znaleziono 50 linków na stronie 75.\n",
      "Znaleziono 50 linków na stronie 76.\n",
      "Znaleziono 50 linków na stronie 77.\n",
      "Znaleziono 50 linków na stronie 78.\n",
      "Znaleziono 50 linków na stronie 79.\n",
      "Znaleziono 50 linków na stronie 80.\n"
     ]
    }
   ],
   "source": [
    "# Tworzenie przeglądarki tylko raz 4\n",
    "options = webdriver.ChromeOptions()\n",
    "options.add_argument(\"--headless\")\n",
    "driver = webdriver.Chrome(service=Service(ChromeDriverManager().install()), options=options)\n",
    "\n",
    "try:\n",
    "    # Przejście przez strony z wynikami wyszukiwania\n",
    "    for page in range(61, 81):  # Możesz dostosować liczbę stron\n",
    "        page_url = base_url.format(page)\n",
    "        book_links = get_book_links(driver, page_url)\n",
    "        print(f\"Znaleziono {len(book_links)} linków na stronie {page}.\")\n",
    "        \n",
    "        for book_url in book_links:\n",
    "            book_data = scrape_book_details(driver, book_url, xpaths)\n",
    "            all_books_data.append(book_data)\n",
    "\n",
    "finally:\n",
    "    driver.quit() "
   ]
  },
  {
   "cell_type": "code",
   "execution_count": 14,
   "id": "e1aa72f9-ffbc-4276-8695-d699bf4235e2",
   "metadata": {},
   "outputs": [
    {
     "name": "stdout",
     "output_type": "stream",
     "text": [
      "Dane zostały zapisane do pliku 'book61_80.csv'\n"
     ]
    }
   ],
   "source": [
    "# Tworzenie DataFrame i zapis do CSV\n",
    "df = pd.DataFrame(all_books_data)\n",
    "df.to_csv(\"book61_80.csv\", index=False, encoding=\"utf-8\")\n",
    "\n",
    "print(\"Dane zostały zapisane do pliku 'book61_80.csv'\")"
   ]
  },
  {
   "cell_type": "code",
   "execution_count": 15,
   "id": "4078b3af-9a0f-47c0-9c5a-9ff62cb4cc97",
   "metadata": {},
   "outputs": [
    {
     "name": "stdout",
     "output_type": "stream",
     "text": [
      "Znaleziono 50 linków na stronie 81.\n",
      "Znaleziono 0 linków na stronie 82.\n",
      "Znaleziono 0 linków na stronie 83.\n",
      "Znaleziono 50 linków na stronie 84.\n",
      "Znaleziono 50 linków na stronie 85.\n",
      "Znaleziono 50 linków na stronie 86.\n",
      "Znaleziono 50 linków na stronie 87.\n",
      "Znaleziono 50 linków na stronie 88.\n",
      "Znaleziono 0 linków na stronie 89.\n",
      "Znaleziono 50 linków na stronie 90.\n",
      "Znaleziono 50 linków na stronie 91.\n",
      "Znaleziono 50 linków na stronie 92.\n",
      "Znaleziono 50 linków na stronie 93.\n",
      "Znaleziono 50 linków na stronie 94.\n",
      "Znaleziono 50 linków na stronie 95.\n",
      "Znaleziono 50 linków na stronie 96.\n",
      "Znaleziono 50 linków na stronie 97.\n",
      "Znaleziono 50 linków na stronie 98.\n",
      "Znaleziono 50 linków na stronie 99.\n",
      "Znaleziono 50 linków na stronie 100.\n"
     ]
    }
   ],
   "source": [
    "# Tworzenie przeglądarki tylko raz 5\n",
    "options = webdriver.ChromeOptions()\n",
    "options.add_argument(\"--headless\")\n",
    "driver = webdriver.Chrome(service=Service(ChromeDriverManager().install()), options=options)\n",
    "\n",
    "try:\n",
    "    # Przejście przez strony z wynikami wyszukiwania\n",
    "    for page in range(81, 101):  # Możesz dostosować liczbę stron\n",
    "        page_url = base_url.format(page)\n",
    "        book_links = get_book_links(driver, page_url)\n",
    "        print(f\"Znaleziono {len(book_links)} linków na stronie {page}.\")\n",
    "        \n",
    "        for book_url in book_links:\n",
    "            book_data = scrape_book_details(driver, book_url, xpaths)\n",
    "            all_books_data.append(book_data)\n",
    "\n",
    "finally:\n",
    "    driver.quit() "
   ]
  },
  {
   "cell_type": "code",
   "execution_count": 16,
   "id": "60e92891-f215-4515-a522-72428b5f92dc",
   "metadata": {},
   "outputs": [
    {
     "name": "stdout",
     "output_type": "stream",
     "text": [
      "Dane zostały zapisane do pliku 'book81_100.csv'\n"
     ]
    }
   ],
   "source": [
    "# Tworzenie DataFrame i zapis do CSV\n",
    "df = pd.DataFrame(all_books_data)\n",
    "df.to_csv(\"book81_100.csv\", index=False, encoding=\"utf-8\")\n",
    "\n",
    "print(\"Dane zostały zapisane do pliku 'book81_100.csv'\")"
   ]
  },
  {
   "cell_type": "code",
   "execution_count": 17,
   "id": "71f1dbe3-fb0a-4ae9-a4e0-156a60af84e1",
   "metadata": {},
   "outputs": [
    {
     "name": "stdout",
     "output_type": "stream",
     "text": [
      "Znaleziono 50 linków na stronie 101.\n",
      "Znaleziono 50 linków na stronie 102.\n",
      "Znaleziono 50 linków na stronie 103.\n",
      "Znaleziono 50 linków na stronie 104.\n",
      "Znaleziono 50 linków na stronie 105.\n",
      "Znaleziono 50 linków na stronie 106.\n",
      "Znaleziono 50 linków na stronie 107.\n",
      "Znaleziono 0 linków na stronie 108.\n",
      "Znaleziono 50 linków na stronie 109.\n",
      "Znaleziono 50 linków na stronie 110.\n",
      "Znaleziono 50 linków na stronie 111.\n",
      "Znaleziono 50 linków na stronie 112.\n",
      "Znaleziono 50 linków na stronie 113.\n",
      "Znaleziono 50 linków na stronie 114.\n",
      "Znaleziono 50 linków na stronie 115.\n",
      "Znaleziono 50 linków na stronie 116.\n",
      "Znaleziono 50 linków na stronie 117.\n",
      "Znaleziono 50 linków na stronie 118.\n",
      "Znaleziono 50 linków na stronie 119.\n",
      "Znaleziono 50 linków na stronie 120.\n"
     ]
    }
   ],
   "source": [
    "# Tworzenie przeglądarki tylko raz 6\n",
    "options = webdriver.ChromeOptions()\n",
    "options.add_argument(\"--headless\")\n",
    "driver = webdriver.Chrome(service=Service(ChromeDriverManager().install()), options=options)\n",
    "\n",
    "try:\n",
    "    # Przejście przez strony z wynikami wyszukiwania\n",
    "    for page in range(101, 121):  # Możesz dostosować liczbę stron\n",
    "        page_url = base_url.format(page)\n",
    "        book_links = get_book_links(driver, page_url)\n",
    "        print(f\"Znaleziono {len(book_links)} linków na stronie {page}.\")\n",
    "        \n",
    "        for book_url in book_links:\n",
    "            book_data = scrape_book_details(driver, book_url, xpaths)\n",
    "            all_books_data.append(book_data)\n",
    "\n",
    "finally:\n",
    "    driver.quit() "
   ]
  },
  {
   "cell_type": "code",
   "execution_count": 18,
   "id": "e56ddcdc-587e-4434-ae8e-6288e427dac1",
   "metadata": {},
   "outputs": [
    {
     "name": "stdout",
     "output_type": "stream",
     "text": [
      "Dane zostały zapisane do pliku 'book101_120.csv'\n"
     ]
    }
   ],
   "source": [
    "# Tworzenie DataFrame i zapis do CSV\n",
    "df = pd.DataFrame(all_books_data)\n",
    "df.to_csv(\"book101_120.csv\", index=False, encoding=\"utf-8\")\n",
    "\n",
    "print(\"Dane zostały zapisane do pliku 'book101_120.csv'\")"
   ]
  },
  {
   "cell_type": "code",
   "execution_count": 19,
   "id": "8af13819-8519-47c0-aa5f-f2388abe99a4",
   "metadata": {},
   "outputs": [
    {
     "name": "stdout",
     "output_type": "stream",
     "text": [
      "Znaleziono 50 linków na stronie 121.\n",
      "Znaleziono 50 linków na stronie 122.\n",
      "Znaleziono 50 linków na stronie 123.\n",
      "Znaleziono 50 linków na stronie 124.\n",
      "Znaleziono 50 linków na stronie 125.\n",
      "Znaleziono 50 linków na stronie 126.\n",
      "Znaleziono 50 linków na stronie 127.\n",
      "Znaleziono 50 linków na stronie 128.\n",
      "Znaleziono 50 linków na stronie 129.\n",
      "Znaleziono 50 linków na stronie 130.\n",
      "Znaleziono 50 linków na stronie 131.\n",
      "Znaleziono 0 linków na stronie 132.\n",
      "Znaleziono 50 linków na stronie 133.\n",
      "Znaleziono 50 linków na stronie 134.\n",
      "Znaleziono 0 linków na stronie 135.\n",
      "Znaleziono 0 linków na stronie 136.\n",
      "Znaleziono 0 linków na stronie 137.\n",
      "Znaleziono 50 linków na stronie 138.\n",
      "Znaleziono 0 linków na stronie 139.\n",
      "Znaleziono 50 linków na stronie 140.\n"
     ]
    }
   ],
   "source": [
    "# Tworzenie przeglądarki tylko raz 7\n",
    "options = webdriver.ChromeOptions()\n",
    "options.add_argument(\"--headless\")\n",
    "driver = webdriver.Chrome(service=Service(ChromeDriverManager().install()), options=options)\n",
    "\n",
    "try:\n",
    "    # Przejście przez strony z wynikami wyszukiwania\n",
    "    for page in range(121, 141):  # Możesz dostosować liczbę stron\n",
    "        page_url = base_url.format(page)\n",
    "        book_links = get_book_links(driver, page_url)\n",
    "        print(f\"Znaleziono {len(book_links)} linków na stronie {page}.\")\n",
    "        \n",
    "        for book_url in book_links:\n",
    "            book_data = scrape_book_details(driver, book_url, xpaths)\n",
    "            all_books_data.append(book_data)\n",
    "\n",
    "finally:\n",
    "    driver.quit() "
   ]
  },
  {
   "cell_type": "code",
   "execution_count": 20,
   "id": "52682b47-5c77-415e-8c8c-d5849c6beb36",
   "metadata": {},
   "outputs": [
    {
     "name": "stdout",
     "output_type": "stream",
     "text": [
      "Dane zostały zapisane do pliku 'book121_140.csv'\n"
     ]
    }
   ],
   "source": [
    "# Tworzenie DataFrame i zapis do CSV\n",
    "df = pd.DataFrame(all_books_data)\n",
    "df.to_csv(\"book121_140.csv\", index=False, encoding=\"utf-8\")\n",
    "\n",
    "print(\"Dane zostały zapisane do pliku 'book121_140.csv'\")"
   ]
  },
  {
   "cell_type": "code",
   "execution_count": 21,
   "id": "f4fc513a-e451-4657-a3b5-0f34b72c285c",
   "metadata": {},
   "outputs": [
    {
     "name": "stdout",
     "output_type": "stream",
     "text": [
      "Znaleziono 50 linków na stronie 141.\n",
      "Znaleziono 50 linków na stronie 142.\n",
      "Znaleziono 50 linków na stronie 143.\n",
      "Znaleziono 50 linków na stronie 144.\n",
      "Znaleziono 0 linków na stronie 145.\n",
      "Znaleziono 0 linków na stronie 146.\n",
      "Znaleziono 50 linków na stronie 147.\n",
      "Znaleziono 50 linków na stronie 148.\n",
      "Znaleziono 50 linków na stronie 149.\n",
      "Znaleziono 50 linków na stronie 150.\n",
      "Znaleziono 50 linków na stronie 151.\n",
      "Znaleziono 50 linków na stronie 152.\n",
      "Znaleziono 50 linków na stronie 153.\n",
      "Znaleziono 50 linków na stronie 154.\n",
      "Znaleziono 50 linków na stronie 155.\n",
      "Znaleziono 50 linków na stronie 156.\n",
      "Znaleziono 50 linków na stronie 157.\n",
      "Znaleziono 0 linków na stronie 158.\n",
      "Znaleziono 50 linków na stronie 159.\n",
      "Znaleziono 50 linków na stronie 160.\n"
     ]
    }
   ],
   "source": [
    "# Tworzenie przeglądarki tylko raz 8\n",
    "options = webdriver.ChromeOptions()\n",
    "options.add_argument(\"--headless\")\n",
    "driver = webdriver.Chrome(service=Service(ChromeDriverManager().install()), options=options)\n",
    "\n",
    "try:\n",
    "    # Przejście przez strony z wynikami wyszukiwania\n",
    "    for page in range(141, 161):  # Możesz dostosować liczbę stron\n",
    "        page_url = base_url.format(page)\n",
    "        book_links = get_book_links(driver, page_url)\n",
    "        print(f\"Znaleziono {len(book_links)} linków na stronie {page}.\")\n",
    "        \n",
    "        for book_url in book_links:\n",
    "            book_data = scrape_book_details(driver, book_url, xpaths)\n",
    "            all_books_data.append(book_data)\n",
    "\n",
    "finally:\n",
    "    driver.quit() "
   ]
  },
  {
   "cell_type": "code",
   "execution_count": 22,
   "id": "be44197f-0b7c-4637-87f1-161fabccc7f2",
   "metadata": {},
   "outputs": [
    {
     "name": "stdout",
     "output_type": "stream",
     "text": [
      "Dane zostały zapisane do pliku 'book141_160.csv'\n"
     ]
    }
   ],
   "source": [
    "# Tworzenie DataFrame i zapis do CSV\n",
    "df = pd.DataFrame(all_books_data)\n",
    "df.to_csv(\"book141_160.csv\", index=False, encoding=\"utf-8\")\n",
    "\n",
    "print(\"Dane zostały zapisane do pliku 'book141_160.csv'\")"
   ]
  },
  {
   "cell_type": "code",
   "execution_count": 23,
   "id": "5406635e-dabf-4cbe-8c00-bb488421d250",
   "metadata": {},
   "outputs": [
    {
     "name": "stdout",
     "output_type": "stream",
     "text": [
      "Znaleziono 50 linków na stronie 161.\n",
      "Znaleziono 50 linków na stronie 162.\n",
      "Znaleziono 50 linków na stronie 163.\n",
      "Znaleziono 50 linków na stronie 164.\n",
      "Znaleziono 50 linków na stronie 165.\n",
      "Znaleziono 50 linków na stronie 166.\n",
      "Znaleziono 50 linków na stronie 167.\n",
      "Znaleziono 50 linków na stronie 168.\n",
      "Znaleziono 50 linków na stronie 169.\n",
      "Znaleziono 50 linków na stronie 170.\n",
      "Znaleziono 50 linków na stronie 171.\n",
      "Znaleziono 50 linków na stronie 172.\n",
      "Znaleziono 50 linków na stronie 173.\n",
      "Znaleziono 50 linków na stronie 174.\n",
      "Znaleziono 50 linków na stronie 175.\n",
      "Znaleziono 50 linków na stronie 176.\n",
      "Znaleziono 0 linków na stronie 177.\n",
      "Znaleziono 50 linków na stronie 178.\n",
      "Znaleziono 50 linków na stronie 179.\n",
      "Znaleziono 50 linków na stronie 180.\n"
     ]
    }
   ],
   "source": [
    "# Tworzenie przeglądarki tylko raz 9\n",
    "options = webdriver.ChromeOptions()\n",
    "options.add_argument(\"--headless\")\n",
    "driver = webdriver.Chrome(service=Service(ChromeDriverManager().install()), options=options)\n",
    "\n",
    "try:\n",
    "    # Przejście przez strony z wynikami wyszukiwania\n",
    "    for page in range(161, 181):  # Możesz dostosować liczbę stron\n",
    "        page_url = base_url.format(page)\n",
    "        book_links = get_book_links(driver, page_url)\n",
    "        print(f\"Znaleziono {len(book_links)} linków na stronie {page}.\")\n",
    "        \n",
    "        for book_url in book_links:\n",
    "            book_data = scrape_book_details(driver, book_url, xpaths)\n",
    "            all_books_data.append(book_data)\n",
    "\n",
    "finally:\n",
    "    driver.quit() "
   ]
  },
  {
   "cell_type": "code",
   "execution_count": 24,
   "id": "945c0ea0-7433-4009-8e68-560289a3c482",
   "metadata": {},
   "outputs": [
    {
     "name": "stdout",
     "output_type": "stream",
     "text": [
      "Dane zostały zapisane do pliku 'book161_180.csv'\n"
     ]
    }
   ],
   "source": [
    "# Tworzenie DataFrame i zapis do CSV\n",
    "df = pd.DataFrame(all_books_data)\n",
    "df.to_csv(\"book161_180.csv\", index=False, encoding=\"utf-8\")\n",
    "\n",
    "print(\"Dane zostały zapisane do pliku 'book161_180.csv'\")"
   ]
  },
  {
   "cell_type": "code",
   "execution_count": 43,
   "id": "5a5d2172-d96c-486c-a457-c6e23420ccc4",
   "metadata": {},
   "outputs": [
    {
     "name": "stdout",
     "output_type": "stream",
     "text": [
      "Znaleziono 50 linków na stronie 181.\n",
      "Znaleziono 50 linków na stronie 182.\n",
      "Znaleziono 50 linków na stronie 183.\n",
      "Znaleziono 0 linków na stronie 184.\n",
      "Znaleziono 0 linków na stronie 185.\n",
      "Znaleziono 50 linków na stronie 186.\n",
      "Znaleziono 0 linków na stronie 187.\n",
      "Znaleziono 0 linków na stronie 188.\n",
      "Znaleziono 50 linków na stronie 189.\n",
      "Znaleziono 50 linków na stronie 190.\n",
      "Znaleziono 50 linków na stronie 191.\n",
      "Znaleziono 50 linków na stronie 192.\n",
      "Znaleziono 50 linków na stronie 193.\n",
      "Znaleziono 50 linków na stronie 194.\n",
      "Znaleziono 50 linków na stronie 195.\n",
      "Znaleziono 0 linków na stronie 196.\n",
      "Znaleziono 50 linków na stronie 197.\n",
      "Znaleziono 0 linków na stronie 198.\n",
      "Znaleziono 0 linków na stronie 199.\n",
      "Znaleziono 0 linków na stronie 200.\n"
     ]
    }
   ],
   "source": [
    "# Tworzenie przeglądarki tylko raz 10\n",
    "options = webdriver.ChromeOptions()\n",
    "options.add_argument(\"--headless\")\n",
    "driver = webdriver.Chrome(service=Service(ChromeDriverManager().install()), options=options)\n",
    "\n",
    "try:\n",
    "    # Przejście przez strony z wynikami wyszukiwania\n",
    "    for page in range(181, 201):  # Możesz dostosować liczbę stron\n",
    "        page_url = base_url.format(page)\n",
    "        book_links = get_book_links(driver, page_url)\n",
    "        print(f\"Znaleziono {len(book_links)} linków na stronie {page}.\")\n",
    "        \n",
    "        for book_url in book_links:\n",
    "            book_data = scrape_book_details(driver, book_url, xpaths)\n",
    "            all_books_data.append(book_data)\n",
    "\n",
    "finally:\n",
    "    driver.quit() "
   ]
  },
  {
   "cell_type": "code",
   "execution_count": 26,
   "id": "0f2585f3-7727-47ae-b66d-6efaa4399914",
   "metadata": {},
   "outputs": [
    {
     "name": "stdout",
     "output_type": "stream",
     "text": [
      "Dane zostały zapisane do pliku 'book181_200.csv'\n"
     ]
    }
   ],
   "source": [
    "# Tworzenie DataFrame i zapis do CSV\n",
    "df = pd.DataFrame(all_books_data)\n",
    "df.to_csv(\"book181_200.csv\", index=False, encoding=\"utf-8\")\n",
    "\n",
    "print(\"Dane zostały zapisane do pliku 'book181_200.csv'\")"
   ]
  },
  {
   "cell_type": "code",
   "execution_count": 29,
   "id": "ed448203-2e6f-4f0e-9be7-75bf9ee5f68f",
   "metadata": {},
   "outputs": [
    {
     "name": "stdout",
     "output_type": "stream",
     "text": [
      "Znaleziono 0 linków na stronie 22.\n"
     ]
    }
   ],
   "source": [
    "# Tworzenie przeglądarki tylko raz 11 (strona 22)\n",
    "options = webdriver.ChromeOptions()\n",
    "options.add_argument(\"--headless\")\n",
    "driver = webdriver.Chrome(service=Service(ChromeDriverManager().install()), options=options)\n",
    "\n",
    "try:\n",
    "    # Przejście przez strony z wynikami wyszukiwania\n",
    "    for page in range(22, 23):  # Możesz dostosować liczbę stron\n",
    "        page_url = base_url.format(page)\n",
    "        book_links = get_book_links(driver, page_url)\n",
    "        print(f\"Znaleziono {len(book_links)} linków na stronie {page}.\")\n",
    "        \n",
    "        for book_url in book_links:\n",
    "            book_data = scrape_book_details(driver, book_url, xpaths)\n",
    "            all_books_data.append(book_data)\n",
    "\n",
    "finally:\n",
    "    driver.quit() "
   ]
  },
  {
   "cell_type": "code",
   "execution_count": 30,
   "id": "40fd40a4-f17f-4ec3-abee-9adef8445ce9",
   "metadata": {},
   "outputs": [
    {
     "name": "stdout",
     "output_type": "stream",
     "text": [
      "Znaleziono 50 linków na stronie 25.\n"
     ]
    }
   ],
   "source": [
    "# Tworzenie przeglądarki tylko raz 12 (strona 25)\n",
    "options = webdriver.ChromeOptions()\n",
    "options.add_argument(\"--headless\")\n",
    "driver = webdriver.Chrome(service=Service(ChromeDriverManager().install()), options=options)\n",
    "\n",
    "try:\n",
    "    # Przejście przez strony z wynikami wyszukiwania\n",
    "    for page in range(25, 26):  # Możesz dostosować liczbę stron\n",
    "        page_url = base_url.format(page)\n",
    "        book_links = get_book_links(driver, page_url)\n",
    "        print(f\"Znaleziono {len(book_links)} linków na stronie {page}.\")\n",
    "        \n",
    "        for book_url in book_links:\n",
    "            book_data = scrape_book_details(driver, book_url, xpaths)\n",
    "            all_books_data.append(book_data)\n",
    "\n",
    "finally:\n",
    "    driver.quit() "
   ]
  },
  {
   "cell_type": "code",
   "execution_count": 31,
   "id": "d708a0ec-117f-405d-b2cb-38e15ef34d90",
   "metadata": {},
   "outputs": [
    {
     "name": "stdout",
     "output_type": "stream",
     "text": [
      "Znaleziono 50 linków na stronie 28.\n",
      "Znaleziono 0 linków na stronie 29.\n",
      "Znaleziono 50 linków na stronie 30.\n"
     ]
    }
   ],
   "source": [
    "# Tworzenie przeglądarki tylko raz 13 (strony 28,29,30)\n",
    "options = webdriver.ChromeOptions()\n",
    "options.add_argument(\"--headless\")\n",
    "driver = webdriver.Chrome(service=Service(ChromeDriverManager().install()), options=options)\n",
    "\n",
    "try:\n",
    "    # Przejście przez strony z wynikami wyszukiwania\n",
    "    for page in range(28, 31):  # Możesz dostosować liczbę stron\n",
    "        page_url = base_url.format(page)\n",
    "        book_links = get_book_links(driver, page_url)\n",
    "        print(f\"Znaleziono {len(book_links)} linków na stronie {page}.\")\n",
    "        \n",
    "        for book_url in book_links:\n",
    "            book_data = scrape_book_details(driver, book_url, xpaths)\n",
    "            all_books_data.append(book_data)\n",
    "\n",
    "finally:\n",
    "    driver.quit() "
   ]
  },
  {
   "cell_type": "code",
   "execution_count": 32,
   "id": "17fafb41-5a13-496b-a118-751335acb889",
   "metadata": {},
   "outputs": [
    {
     "name": "stdout",
     "output_type": "stream",
     "text": [
      "Znaleziono 50 linków na stronie 32.\n"
     ]
    }
   ],
   "source": [
    "# Tworzenie przeglądarki tylko raz 15 (strona 32)\n",
    "options = webdriver.ChromeOptions()\n",
    "options.add_argument(\"--headless\")\n",
    "driver = webdriver.Chrome(service=Service(ChromeDriverManager().install()), options=options)\n",
    "\n",
    "try:\n",
    "    # Przejście przez strony z wynikami wyszukiwania\n",
    "    for page in range(32, 33):  # Możesz dostosować liczbę stron\n",
    "        page_url = base_url.format(page)\n",
    "        book_links = get_book_links(driver, page_url)\n",
    "        print(f\"Znaleziono {len(book_links)} linków na stronie {page}.\")\n",
    "        \n",
    "        for book_url in book_links:\n",
    "            book_data = scrape_book_details(driver, book_url, xpaths)\n",
    "            all_books_data.append(book_data)\n",
    "\n",
    "finally:\n",
    "    driver.quit() "
   ]
  },
  {
   "cell_type": "code",
   "execution_count": 33,
   "id": "565e522b-e5ae-460e-b476-16c58c7f1cf7",
   "metadata": {},
   "outputs": [
    {
     "name": "stdout",
     "output_type": "stream",
     "text": [
      "Znaleziono 50 linków na stronie 36.\n",
      "Znaleziono 50 linków na stronie 37.\n",
      "Znaleziono 50 linków na stronie 38.\n"
     ]
    }
   ],
   "source": [
    "# Tworzenie przeglądarki tylko raz 16 (strona 36,37,38)\n",
    "options = webdriver.ChromeOptions()\n",
    "options.add_argument(\"--headless\")\n",
    "driver = webdriver.Chrome(service=Service(ChromeDriverManager().install()), options=options)\n",
    "\n",
    "try:\n",
    "    # Przejście przez strony z wynikami wyszukiwania\n",
    "    for page in range(36, 39):  # Możesz dostosować liczbę stron\n",
    "        page_url = base_url.format(page)\n",
    "        book_links = get_book_links(driver, page_url)\n",
    "        print(f\"Znaleziono {len(book_links)} linków na stronie {page}.\")\n",
    "        \n",
    "        for book_url in book_links:\n",
    "            book_data = scrape_book_details(driver, book_url, xpaths)\n",
    "            all_books_data.append(book_data)\n",
    "\n",
    "finally:\n",
    "    driver.quit() "
   ]
  },
  {
   "cell_type": "code",
   "execution_count": 34,
   "id": "f3d23fef-d6e1-4b1b-ac91-818f4113b87c",
   "metadata": {},
   "outputs": [
    {
     "name": "stdout",
     "output_type": "stream",
     "text": [
      "Znaleziono 50 linków na stronie 40.\n"
     ]
    }
   ],
   "source": [
    "# Tworzenie przeglądarki tylko raz 17 (strona 40)\n",
    "options = webdriver.ChromeOptions()\n",
    "options.add_argument(\"--headless\")\n",
    "driver = webdriver.Chrome(service=Service(ChromeDriverManager().install()), options=options)\n",
    "\n",
    "try:\n",
    "    # Przejście przez strony z wynikami wyszukiwania\n",
    "    for page in range(40, 41):  # Możesz dostosować liczbę stron\n",
    "        page_url = base_url.format(page)\n",
    "        book_links = get_book_links(driver, page_url)\n",
    "        print(f\"Znaleziono {len(book_links)} linków na stronie {page}.\")\n",
    "        \n",
    "        for book_url in book_links:\n",
    "            book_data = scrape_book_details(driver, book_url, xpaths)\n",
    "            all_books_data.append(book_data)\n",
    "\n",
    "finally:\n",
    "    driver.quit() "
   ]
  },
  {
   "cell_type": "code",
   "execution_count": 62,
   "id": "841ab473-f8d2-4c75-9bf1-b1a052d5b089",
   "metadata": {},
   "outputs": [
    {
     "name": "stdout",
     "output_type": "stream",
     "text": [
      "Znaleziono 50 linków na stronie 63.\n",
      "Znaleziono 50 linków na stronie 64.\n",
      "Znaleziono 0 linków na stronie 65.\n"
     ]
    }
   ],
   "source": [
    "# Tworzenie przeglądarki tylko raz 18 (strona 63,64,65)\n",
    "options = webdriver.ChromeOptions()\n",
    "options.add_argument(\"--headless\")\n",
    "driver = webdriver.Chrome(service=Service(ChromeDriverManager().install()), options=options)\n",
    "\n",
    "try:\n",
    "    # Przejście przez strony z wynikami wyszukiwania\n",
    "    for page in range(63, 66):  # Możesz dostosować liczbę stron\n",
    "        page_url = base_url.format(page)\n",
    "        book_links = get_book_links(driver, page_url)\n",
    "        print(f\"Znaleziono {len(book_links)} linków na stronie {page}.\")\n",
    "        \n",
    "        for book_url in book_links:\n",
    "            book_data = scrape_book_details(driver, book_url, xpaths)\n",
    "            all_books_data.append(book_data)\n",
    "\n",
    "finally:\n",
    "    driver.quit() "
   ]
  },
  {
   "cell_type": "code",
   "execution_count": 36,
   "id": "28c8863f-7e9d-4213-b0f9-048403749c76",
   "metadata": {},
   "outputs": [
    {
     "name": "stdout",
     "output_type": "stream",
     "text": [
      "Znaleziono 50 linków na stronie 68.\n",
      "Znaleziono 50 linków na stronie 69.\n",
      "Znaleziono 50 linków na stronie 70.\n"
     ]
    }
   ],
   "source": [
    "# Tworzenie przeglądarki tylko raz 19 (strona 68,69,70)\n",
    "options = webdriver.ChromeOptions()\n",
    "options.add_argument(\"--headless\")\n",
    "driver = webdriver.Chrome(service=Service(ChromeDriverManager().install()), options=options)\n",
    "\n",
    "try:\n",
    "    # Przejście przez strony z wynikami wyszukiwania\n",
    "    for page in range(68, 71):  # Możesz dostosować liczbę stron\n",
    "        page_url = base_url.format(page)\n",
    "        book_links = get_book_links(driver, page_url)\n",
    "        print(f\"Znaleziono {len(book_links)} linków na stronie {page}.\")\n",
    "        \n",
    "        for book_url in book_links:\n",
    "            book_data = scrape_book_details(driver, book_url, xpaths)\n",
    "            all_books_data.append(book_data)\n",
    "\n",
    "finally:\n",
    "    driver.quit() "
   ]
  },
  {
   "cell_type": "code",
   "execution_count": 37,
   "id": "737fc733-3d64-4d64-8508-678381f2e250",
   "metadata": {},
   "outputs": [
    {
     "name": "stdout",
     "output_type": "stream",
     "text": [
      "Znaleziono 50 linków na stronie 82.\n",
      "Znaleziono 0 linków na stronie 83.\n"
     ]
    }
   ],
   "source": [
    "# Tworzenie przeglądarki tylko raz 20 (strona 82,83)\n",
    "options = webdriver.ChromeOptions()\n",
    "options.add_argument(\"--headless\")\n",
    "driver = webdriver.Chrome(service=Service(ChromeDriverManager().install()), options=options)\n",
    "\n",
    "try:\n",
    "    # Przejście przez strony z wynikami wyszukiwania\n",
    "    for page in range(82, 84):  # Możesz dostosować liczbę stron\n",
    "        page_url = base_url.format(page)\n",
    "        book_links = get_book_links(driver, page_url)\n",
    "        print(f\"Znaleziono {len(book_links)} linków na stronie {page}.\")\n",
    "        \n",
    "        for book_url in book_links:\n",
    "            book_data = scrape_book_details(driver, book_url, xpaths)\n",
    "            all_books_data.append(book_data)\n",
    "\n",
    "finally:\n",
    "    driver.quit() "
   ]
  },
  {
   "cell_type": "code",
   "execution_count": 38,
   "id": "1a55e2d9-2c83-4ebb-8300-7016c39d3108",
   "metadata": {},
   "outputs": [
    {
     "name": "stdout",
     "output_type": "stream",
     "text": [
      "Znaleziono 50 linków na stronie 89.\n"
     ]
    }
   ],
   "source": [
    "# Tworzenie przeglądarki tylko raz 21 (strona 89)\n",
    "options = webdriver.ChromeOptions()\n",
    "options.add_argument(\"--headless\")\n",
    "driver = webdriver.Chrome(service=Service(ChromeDriverManager().install()), options=options)\n",
    "\n",
    "try:\n",
    "    # Przejście przez strony z wynikami wyszukiwania\n",
    "    for page in range(89, 90):  # Możesz dostosować liczbę stron\n",
    "        page_url = base_url.format(page)\n",
    "        book_links = get_book_links(driver, page_url)\n",
    "        print(f\"Znaleziono {len(book_links)} linków na stronie {page}.\")\n",
    "        \n",
    "        for book_url in book_links:\n",
    "            book_data = scrape_book_details(driver, book_url, xpaths)\n",
    "            all_books_data.append(book_data)\n",
    "\n",
    "finally:\n",
    "    driver.quit() "
   ]
  },
  {
   "cell_type": "code",
   "execution_count": 39,
   "id": "1ae20f3b-9c45-4e4b-952f-0fd3e174a502",
   "metadata": {},
   "outputs": [
    {
     "name": "stdout",
     "output_type": "stream",
     "text": [
      "Znaleziono 50 linków na stronie 108.\n"
     ]
    }
   ],
   "source": [
    "# Tworzenie przeglądarki tylko raz 22 (strona 108)\n",
    "options = webdriver.ChromeOptions()\n",
    "options.add_argument(\"--headless\")\n",
    "driver = webdriver.Chrome(service=Service(ChromeDriverManager().install()), options=options)\n",
    "\n",
    "try:\n",
    "    # Przejście przez strony z wynikami wyszukiwania\n",
    "    for page in range(108, 109):  # Możesz dostosować liczbę stron\n",
    "        page_url = base_url.format(page)\n",
    "        book_links = get_book_links(driver, page_url)\n",
    "        print(f\"Znaleziono {len(book_links)} linków na stronie {page}.\")\n",
    "        \n",
    "        for book_url in book_links:\n",
    "            book_data = scrape_book_details(driver, book_url, xpaths)\n",
    "            all_books_data.append(book_data)\n",
    "\n",
    "finally:\n",
    "    driver.quit() "
   ]
  },
  {
   "cell_type": "code",
   "execution_count": 40,
   "id": "f1791b77-1614-4ac8-b08a-2c79c9f900e1",
   "metadata": {},
   "outputs": [
    {
     "name": "stdout",
     "output_type": "stream",
     "text": [
      "Dane zostały zapisane do pliku 'book_do108_ubytki.csv'\n"
     ]
    }
   ],
   "source": [
    "# Tworzenie DataFrame i zapis do CSV\n",
    "df = pd.DataFrame(all_books_data)\n",
    "df.to_csv(\"book_do108_ubytki.csv\", index=False, encoding=\"utf-8\")\n",
    "\n",
    "print(\"Dane zostały zapisane do pliku 'book_do108_ubytki.csv'\")"
   ]
  },
  {
   "cell_type": "code",
   "execution_count": 63,
   "id": "3b7900e9-471d-4f36-ba84-da5f91956e15",
   "metadata": {},
   "outputs": [
    {
     "name": "stdout",
     "output_type": "stream",
     "text": [
      "Znaleziono 50 linków na stronie 132.\n"
     ]
    }
   ],
   "source": [
    "# Tworzenie przeglądarki tylko raz 23 (strona 132)\n",
    "options = webdriver.ChromeOptions()\n",
    "options.add_argument(\"--headless\")\n",
    "driver = webdriver.Chrome(service=Service(ChromeDriverManager().install()), options=options)\n",
    "\n",
    "try:\n",
    "    # Przejście przez strony z wynikami wyszukiwania\n",
    "    for page in range(132, 133):  # Możesz dostosować liczbę stron\n",
    "        page_url = base_url.format(page)\n",
    "        book_links = get_book_links(driver, page_url)\n",
    "        print(f\"Znaleziono {len(book_links)} linków na stronie {page}.\")\n",
    "        \n",
    "        for book_url in book_links:\n",
    "            book_data = scrape_book_details(driver, book_url, xpaths)\n",
    "            all_books_data.append(book_data)\n",
    "\n",
    "finally:\n",
    "    driver.quit() "
   ]
  },
  {
   "cell_type": "code",
   "execution_count": 45,
   "id": "0558137c-c161-4963-8c07-f9ad6429d748",
   "metadata": {},
   "outputs": [
    {
     "name": "stdout",
     "output_type": "stream",
     "text": [
      "Znaleziono 50 linków na stronie 135.\n",
      "Znaleziono 50 linków na stronie 136.\n",
      "Znaleziono 50 linków na stronie 137.\n"
     ]
    }
   ],
   "source": [
    "# Tworzenie przeglądarki tylko raz 24 (strona 135,136,137)\n",
    "options = webdriver.ChromeOptions()\n",
    "options.add_argument(\"--headless\")\n",
    "driver = webdriver.Chrome(service=Service(ChromeDriverManager().install()), options=options)\n",
    "\n",
    "try:\n",
    "    # Przejście przez strony z wynikami wyszukiwania\n",
    "    for page in range(135, 138):  # Możesz dostosować liczbę stron\n",
    "        page_url = base_url.format(page)\n",
    "        book_links = get_book_links(driver, page_url)\n",
    "        print(f\"Znaleziono {len(book_links)} linków na stronie {page}.\")\n",
    "        \n",
    "        for book_url in book_links:\n",
    "            book_data = scrape_book_details(driver, book_url, xpaths)\n",
    "            all_books_data.append(book_data)\n",
    "\n",
    "finally:\n",
    "    driver.quit() "
   ]
  },
  {
   "cell_type": "code",
   "execution_count": 64,
   "id": "96aa39d9-80a6-4f3f-8060-663d8e83dcf9",
   "metadata": {},
   "outputs": [
    {
     "name": "stdout",
     "output_type": "stream",
     "text": [
      "Znaleziono 50 linków na stronie 139.\n"
     ]
    }
   ],
   "source": [
    "# Tworzenie przeglądarki tylko raz 25 (strona 139)\n",
    "options = webdriver.ChromeOptions()\n",
    "options.add_argument(\"--headless\")\n",
    "driver = webdriver.Chrome(service=Service(ChromeDriverManager().install()), options=options)\n",
    "\n",
    "try:\n",
    "    # Przejście przez strony z wynikami wyszukiwania\n",
    "    for page in range(139, 140):  # Możesz dostosować liczbę stron\n",
    "        page_url = base_url.format(page)\n",
    "        book_links = get_book_links(driver, page_url)\n",
    "        print(f\"Znaleziono {len(book_links)} linków na stronie {page}.\")\n",
    "        \n",
    "        for book_url in book_links:\n",
    "            book_data = scrape_book_details(driver, book_url, xpaths)\n",
    "            all_books_data.append(book_data)\n",
    "\n",
    "finally:\n",
    "    driver.quit() "
   ]
  },
  {
   "cell_type": "code",
   "execution_count": 47,
   "id": "c15a0014-9abf-4063-9172-506491de5182",
   "metadata": {},
   "outputs": [
    {
     "name": "stdout",
     "output_type": "stream",
     "text": [
      "Znaleziono 50 linków na stronie 145.\n",
      "Znaleziono 50 linków na stronie 146.\n"
     ]
    }
   ],
   "source": [
    "# Tworzenie przeglądarki tylko raz 26 (strona 145,146)\n",
    "options = webdriver.ChromeOptions()\n",
    "options.add_argument(\"--headless\")\n",
    "driver = webdriver.Chrome(service=Service(ChromeDriverManager().install()), options=options)\n",
    "\n",
    "try:\n",
    "    # Przejście przez strony z wynikami wyszukiwania\n",
    "    for page in range(145, 147):  # Możesz dostosować liczbę stron\n",
    "        page_url = base_url.format(page)\n",
    "        book_links = get_book_links(driver, page_url)\n",
    "        print(f\"Znaleziono {len(book_links)} linków na stronie {page}.\")\n",
    "        \n",
    "        for book_url in book_links:\n",
    "            book_data = scrape_book_details(driver, book_url, xpaths)\n",
    "            all_books_data.append(book_data)\n",
    "\n",
    "finally:\n",
    "    driver.quit() "
   ]
  },
  {
   "cell_type": "code",
   "execution_count": 65,
   "id": "b6be90b0-c58e-403c-889d-31966bc5523d",
   "metadata": {},
   "outputs": [
    {
     "name": "stdout",
     "output_type": "stream",
     "text": [
      "Znaleziono 50 linków na stronie 158.\n"
     ]
    }
   ],
   "source": [
    "# Tworzenie przeglądarki tylko raz 27 (strona 158)\n",
    "options = webdriver.ChromeOptions()\n",
    "options.add_argument(\"--headless\")\n",
    "driver = webdriver.Chrome(service=Service(ChromeDriverManager().install()), options=options)\n",
    "\n",
    "try:\n",
    "    # Przejście przez strony z wynikami wyszukiwania\n",
    "    for page in range(158, 159):  # Możesz dostosować liczbę stron\n",
    "        page_url = base_url.format(page)\n",
    "        book_links = get_book_links(driver, page_url)\n",
    "        print(f\"Znaleziono {len(book_links)} linków na stronie {page}.\")\n",
    "        \n",
    "        for book_url in book_links:\n",
    "            book_data = scrape_book_details(driver, book_url, xpaths)\n",
    "            all_books_data.append(book_data)\n",
    "\n",
    "finally:\n",
    "    driver.quit() "
   ]
  },
  {
   "cell_type": "code",
   "execution_count": 49,
   "id": "5a107a2e-0ff4-4a86-8f2d-9e7db1750c75",
   "metadata": {},
   "outputs": [
    {
     "name": "stdout",
     "output_type": "stream",
     "text": [
      "Znaleziono 50 linków na stronie 177.\n"
     ]
    }
   ],
   "source": [
    "# Tworzenie przeglądarki tylko raz 28 (strona 177)\n",
    "options = webdriver.ChromeOptions()\n",
    "options.add_argument(\"--headless\")\n",
    "driver = webdriver.Chrome(service=Service(ChromeDriverManager().install()), options=options)\n",
    "\n",
    "try:\n",
    "    # Przejście przez strony z wynikami wyszukiwania\n",
    "    for page in range(177, 178):  # Możesz dostosować liczbę stron\n",
    "        page_url = base_url.format(page)\n",
    "        book_links = get_book_links(driver, page_url)\n",
    "        print(f\"Znaleziono {len(book_links)} linków na stronie {page}.\")\n",
    "        \n",
    "        for book_url in book_links:\n",
    "            book_data = scrape_book_details(driver, book_url, xpaths)\n",
    "            all_books_data.append(book_data)\n",
    "\n",
    "finally:\n",
    "    driver.quit() "
   ]
  },
  {
   "cell_type": "code",
   "execution_count": 66,
   "id": "7742de46-9a56-4dcf-b53b-f6d97da5e5a1",
   "metadata": {},
   "outputs": [
    {
     "name": "stdout",
     "output_type": "stream",
     "text": [
      "Znaleziono 50 linków na stronie 22.\n"
     ]
    }
   ],
   "source": [
    "# Tworzenie przeglądarki tylko raz 29 (strona 22)\n",
    "options = webdriver.ChromeOptions()\n",
    "options.add_argument(\"--headless\")\n",
    "driver = webdriver.Chrome(service=Service(ChromeDriverManager().install()), options=options)\n",
    "\n",
    "try:\n",
    "    # Przejście przez strony z wynikami wyszukiwania\n",
    "    for page in range(22, 23):  # Możesz dostosować liczbę stron\n",
    "        page_url = base_url.format(page)\n",
    "        book_links = get_book_links(driver, page_url)\n",
    "        print(f\"Znaleziono {len(book_links)} linków na stronie {page}.\")\n",
    "        \n",
    "        for book_url in book_links:\n",
    "            book_data = scrape_book_details(driver, book_url, xpaths)\n",
    "            all_books_data.append(book_data)\n",
    "\n",
    "finally:\n",
    "    driver.quit() "
   ]
  },
  {
   "cell_type": "code",
   "execution_count": 51,
   "id": "d58f7335-72a4-4e4e-9101-34dcee676579",
   "metadata": {},
   "outputs": [
    {
     "name": "stdout",
     "output_type": "stream",
     "text": [
      "Znaleziono 50 linków na stronie 29.\n"
     ]
    }
   ],
   "source": [
    "# Tworzenie przeglądarki tylko raz 30 (strona 29)\n",
    "options = webdriver.ChromeOptions()\n",
    "options.add_argument(\"--headless\")\n",
    "driver = webdriver.Chrome(service=Service(ChromeDriverManager().install()), options=options)\n",
    "\n",
    "try:\n",
    "    # Przejście przez strony z wynikami wyszukiwania\n",
    "    for page in range(29, 30):  # Możesz dostosować liczbę stron\n",
    "        page_url = base_url.format(page)\n",
    "        book_links = get_book_links(driver, page_url)\n",
    "        print(f\"Znaleziono {len(book_links)} linków na stronie {page}.\")\n",
    "        \n",
    "        for book_url in book_links:\n",
    "            book_data = scrape_book_details(driver, book_url, xpaths)\n",
    "            all_books_data.append(book_data)\n",
    "\n",
    "finally:\n",
    "    driver.quit() "
   ]
  },
  {
   "cell_type": "code",
   "execution_count": null,
   "id": "39cfe8ae-5af7-4839-8081-1092e440c6b8",
   "metadata": {},
   "outputs": [],
   "source": []
  },
  {
   "cell_type": "code",
   "execution_count": null,
   "id": "a4656aa9-649d-4338-9715-7c3e4c815c8c",
   "metadata": {},
   "outputs": [],
   "source": []
  },
  {
   "cell_type": "code",
   "execution_count": 52,
   "id": "bb6b92cf-3455-4799-ad6e-97d2c5ed9782",
   "metadata": {},
   "outputs": [
    {
     "name": "stdout",
     "output_type": "stream",
     "text": [
      "Dane zostały zapisane do pliku 'book_do29_ubytki3.csv'\n"
     ]
    }
   ],
   "source": [
    "# Tworzenie DataFrame i zapis do CSV\n",
    "df = pd.DataFrame(all_books_data)\n",
    "df.to_csv(\"book_do29_ubytki3.csv\", index=False, encoding=\"utf-8\")\n",
    "\n",
    "print(\"Dane zostały zapisane do pliku 'book_do29_ubytki3.csv'\")"
   ]
  },
  {
   "cell_type": "code",
   "execution_count": 54,
   "id": "4a7df475-1d66-4310-a9b3-ca4a26b4df98",
   "metadata": {},
   "outputs": [
    {
     "name": "stdout",
     "output_type": "stream",
     "text": [
      "Znaleziono 50 linków na stronie 83.\n"
     ]
    }
   ],
   "source": [
    "# Tworzenie przeglądarki tylko raz 31 (strona 83)\n",
    "options = webdriver.ChromeOptions()\n",
    "options.add_argument(\"--headless\")\n",
    "driver = webdriver.Chrome(service=Service(ChromeDriverManager().install()), options=options)\n",
    "\n",
    "try:\n",
    "    # Przejście przez strony z wynikami wyszukiwania\n",
    "    for page in range(83, 84):  # Możesz dostosować liczbę stron\n",
    "        page_url = base_url.format(page)\n",
    "        book_links = get_book_links(driver, page_url)\n",
    "        print(f\"Znaleziono {len(book_links)} linków na stronie {page}.\")\n",
    "        \n",
    "        for book_url in book_links:\n",
    "            book_data = scrape_book_details(driver, book_url, xpaths)\n",
    "            all_books_data.append(book_data)\n",
    "\n",
    "finally:\n",
    "    driver.quit() "
   ]
  },
  {
   "cell_type": "code",
   "execution_count": 55,
   "id": "566e66bf-12a0-49c0-9c46-b52586d39d70",
   "metadata": {},
   "outputs": [
    {
     "name": "stdout",
     "output_type": "stream",
     "text": [
      "Znaleziono 50 linków na stronie 10.\n"
     ]
    }
   ],
   "source": [
    "# Tworzenie przeglądarki tylko raz 32 (strona 10)\n",
    "options = webdriver.ChromeOptions()\n",
    "options.add_argument(\"--headless\")\n",
    "driver = webdriver.Chrome(service=Service(ChromeDriverManager().install()), options=options)\n",
    "\n",
    "try:\n",
    "    # Przejście przez strony z wynikami wyszukiwania\n",
    "    for page in range(10, 11):  # Możesz dostosować liczbę stron\n",
    "        page_url = base_url.format(page)\n",
    "        book_links = get_book_links(driver, page_url)\n",
    "        print(f\"Znaleziono {len(book_links)} linków na stronie {page}.\")\n",
    "        \n",
    "        for book_url in book_links:\n",
    "            book_data = scrape_book_details(driver, book_url, xpaths)\n",
    "            all_books_data.append(book_data)\n",
    "\n",
    "finally:\n",
    "    driver.quit() "
   ]
  },
  {
   "cell_type": "code",
   "execution_count": 56,
   "id": "e5ed42bc-405a-43dc-afd6-9325baef78ef",
   "metadata": {},
   "outputs": [
    {
     "name": "stdout",
     "output_type": "stream",
     "text": [
      "Znaleziono 50 linków na stronie 13.\n"
     ]
    }
   ],
   "source": [
    "# Tworzenie przeglądarki tylko raz 33 (strona 13)\n",
    "options = webdriver.ChromeOptions()\n",
    "options.add_argument(\"--headless\")\n",
    "driver = webdriver.Chrome(service=Service(ChromeDriverManager().install()), options=options)\n",
    "\n",
    "try:\n",
    "    # Przejście przez strony z wynikami wyszukiwania\n",
    "    for page in range(13, 14):  # Możesz dostosować liczbę stron\n",
    "        page_url = base_url.format(page)\n",
    "        book_links = get_book_links(driver, page_url)\n",
    "        print(f\"Znaleziono {len(book_links)} linków na stronie {page}.\")\n",
    "        \n",
    "        for book_url in book_links:\n",
    "            book_data = scrape_book_details(driver, book_url, xpaths)\n",
    "            all_books_data.append(book_data)\n",
    "\n",
    "finally:\n",
    "    driver.quit() "
   ]
  },
  {
   "cell_type": "code",
   "execution_count": 57,
   "id": "237e6808-b214-411e-baed-432c1131f811",
   "metadata": {},
   "outputs": [
    {
     "name": "stdout",
     "output_type": "stream",
     "text": [
      "Znaleziono 50 linków na stronie 19.\n",
      "Znaleziono 50 linków na stronie 20.\n"
     ]
    }
   ],
   "source": [
    "# Tworzenie przeglądarki tylko raz 33 (strona 19,20)\n",
    "options = webdriver.ChromeOptions()\n",
    "options.add_argument(\"--headless\")\n",
    "driver = webdriver.Chrome(service=Service(ChromeDriverManager().install()), options=options)\n",
    "\n",
    "try:\n",
    "    # Przejście przez strony z wynikami wyszukiwania\n",
    "    for page in range(19, 21):  # Możesz dostosować liczbę stron\n",
    "        page_url = base_url.format(page)\n",
    "        book_links = get_book_links(driver, page_url)\n",
    "        print(f\"Znaleziono {len(book_links)} linków na stronie {page}.\")\n",
    "        \n",
    "        for book_url in book_links:\n",
    "            book_data = scrape_book_details(driver, book_url, xpaths)\n",
    "            all_books_data.append(book_data)\n",
    "\n",
    "finally:\n",
    "    driver.quit() "
   ]
  },
  {
   "cell_type": "code",
   "execution_count": 58,
   "id": "ab4056ba-92a8-4a3a-8246-abb25dfb75d9",
   "metadata": {},
   "outputs": [
    {
     "name": "stdout",
     "output_type": "stream",
     "text": [
      "Znaleziono 50 linków na stronie 42.\n",
      "Znaleziono 50 linków na stronie 43.\n",
      "Znaleziono 50 linków na stronie 44.\n"
     ]
    }
   ],
   "source": [
    "# Tworzenie przeglądarki tylko raz 35 (strona 42,43,44)\n",
    "options = webdriver.ChromeOptions()\n",
    "options.add_argument(\"--headless\")\n",
    "driver = webdriver.Chrome(service=Service(ChromeDriverManager().install()), options=options)\n",
    "\n",
    "try:\n",
    "    # Przejście przez strony z wynikami wyszukiwania\n",
    "    for page in range(42, 45):  # Możesz dostosować liczbę stron\n",
    "        page_url = base_url.format(page)\n",
    "        book_links = get_book_links(driver, page_url)\n",
    "        print(f\"Znaleziono {len(book_links)} linków na stronie {page}.\")\n",
    "        \n",
    "        for book_url in book_links:\n",
    "            book_data = scrape_book_details(driver, book_url, xpaths)\n",
    "            all_books_data.append(book_data)\n",
    "\n",
    "finally:\n",
    "    driver.quit() "
   ]
  },
  {
   "cell_type": "code",
   "execution_count": 67,
   "id": "0a11c48f-fbbe-4cdb-96d6-0878fea44bf2",
   "metadata": {},
   "outputs": [
    {
     "name": "stdout",
     "output_type": "stream",
     "text": [
      "Znaleziono 50 linków na stronie 49.\n"
     ]
    }
   ],
   "source": [
    "# Tworzenie przeglądarki tylko raz 36 (strona 49)\n",
    "options = webdriver.ChromeOptions()\n",
    "options.add_argument(\"--headless\")\n",
    "driver = webdriver.Chrome(service=Service(ChromeDriverManager().install()), options=options)\n",
    "\n",
    "try:\n",
    "    # Przejście przez strony z wynikami wyszukiwania\n",
    "    for page in range(49, 50):  # Możesz dostosować liczbę stron\n",
    "        page_url = base_url.format(page)\n",
    "        book_links = get_book_links(driver, page_url)\n",
    "        print(f\"Znaleziono {len(book_links)} linków na stronie {page}.\")\n",
    "        \n",
    "        for book_url in book_links:\n",
    "            book_data = scrape_book_details(driver, book_url, xpaths)\n",
    "            all_books_data.append(book_data)\n",
    "\n",
    "finally:\n",
    "    driver.quit() "
   ]
  },
  {
   "cell_type": "code",
   "execution_count": 60,
   "id": "0ac92ed5-0523-4957-a93b-1862e8135b16",
   "metadata": {},
   "outputs": [
    {
     "name": "stdout",
     "output_type": "stream",
     "text": [
      "Znaleziono 50 linków na stronie 59.\n"
     ]
    }
   ],
   "source": [
    "# Tworzenie przeglądarki tylko raz 37 (strona 59)\n",
    "options = webdriver.ChromeOptions()\n",
    "options.add_argument(\"--headless\")\n",
    "driver = webdriver.Chrome(service=Service(ChromeDriverManager().install()), options=options)\n",
    "\n",
    "try:\n",
    "    # Przejście przez strony z wynikami wyszukiwania\n",
    "    for page in range(59, 60):  # Możesz dostosować liczbę stron\n",
    "        page_url = base_url.format(page)\n",
    "        book_links = get_book_links(driver, page_url)\n",
    "        print(f\"Znaleziono {len(book_links)} linków na stronie {page}.\")\n",
    "        \n",
    "        for book_url in book_links:\n",
    "            book_data = scrape_book_details(driver, book_url, xpaths)\n",
    "            all_books_data.append(book_data)\n",
    "\n",
    "finally:\n",
    "    driver.quit() "
   ]
  },
  {
   "cell_type": "code",
   "execution_count": 61,
   "id": "3bacc7f4-6b1a-406d-9c89-8a26698fa465",
   "metadata": {},
   "outputs": [
    {
     "name": "stdout",
     "output_type": "stream",
     "text": [
      "Dane zostały zapisane do pliku 'book_do59_ubytki4.csv'\n"
     ]
    }
   ],
   "source": [
    "# Tworzenie DataFrame i zapis do CSV\n",
    "df = pd.DataFrame(all_books_data)\n",
    "df.to_csv(\"book_do59_ubytki4.csv\", index=False, encoding=\"utf-8\")\n",
    "\n",
    "print(\"Dane zostały zapisane do pliku 'book_do59_ubytki4.csv'\")"
   ]
  },
  {
   "cell_type": "code",
   "execution_count": 68,
   "id": "0c98cdd8-fbbf-4183-9d2d-8dc96d1f2da6",
   "metadata": {},
   "outputs": [
    {
     "name": "stdout",
     "output_type": "stream",
     "text": [
      "Dane zostały zapisane do pliku 'book_do49_ubytki5.csv'\n"
     ]
    }
   ],
   "source": [
    "# Tworzenie DataFrame i zapis do CSV\n",
    "df = pd.DataFrame(all_books_data)\n",
    "df.to_csv(\"book_do49_ubytki5.csv\", index=False, encoding=\"utf-8\")\n",
    "\n",
    "print(\"Dane zostały zapisane do pliku 'book_do49_ubytki5.csv'\")"
   ]
  },
  {
   "cell_type": "code",
   "execution_count": 74,
   "id": "5b372b5a-5019-4842-9e2c-79d02a514bad",
   "metadata": {},
   "outputs": [
    {
     "name": "stdout",
     "output_type": "stream",
     "text": [
      "Znaleziono 50 linków na stronie 184.\n",
      "Znaleziono 0 linków na stronie 185.\n"
     ]
    }
   ],
   "source": [
    "# Tworzenie przeglądarki tylko raz 38 (strona 184,185)\n",
    "options = webdriver.ChromeOptions()\n",
    "options.add_argument(\"--headless\")\n",
    "driver = webdriver.Chrome(service=Service(ChromeDriverManager().install()), options=options)\n",
    "\n",
    "try:\n",
    "    # Przejście przez strony z wynikami wyszukiwania\n",
    "    for page in range(184, 186):  # Możesz dostosować liczbę stron\n",
    "        page_url = base_url.format(page)\n",
    "        book_links = get_book_links(driver, page_url)\n",
    "        print(f\"Znaleziono {len(book_links)} linków na stronie {page}.\")\n",
    "        \n",
    "        for book_url in book_links:\n",
    "            book_data = scrape_book_details(driver, book_url, xpaths)\n",
    "            all_books_data.append(book_data)\n",
    "\n",
    "finally:\n",
    "    driver.quit() "
   ]
  },
  {
   "cell_type": "code",
   "execution_count": 70,
   "id": "0454ac52-2e07-45eb-8243-0b96d1b229e1",
   "metadata": {},
   "outputs": [
    {
     "name": "stdout",
     "output_type": "stream",
     "text": [
      "Znaleziono 50 linków na stronie 187.\n",
      "Znaleziono 50 linków na stronie 188.\n"
     ]
    }
   ],
   "source": [
    "# Tworzenie przeglądarki tylko raz 39 (strona 187,188)\n",
    "options = webdriver.ChromeOptions()\n",
    "options.add_argument(\"--headless\")\n",
    "driver = webdriver.Chrome(service=Service(ChromeDriverManager().install()), options=options)\n",
    "\n",
    "try:\n",
    "    # Przejście przez strony z wynikami wyszukiwania\n",
    "    for page in range(187, 189):  # Możesz dostosować liczbę stron\n",
    "        page_url = base_url.format(page)\n",
    "        book_links = get_book_links(driver, page_url)\n",
    "        print(f\"Znaleziono {len(book_links)} linków na stronie {page}.\")\n",
    "        \n",
    "        for book_url in book_links:\n",
    "            book_data = scrape_book_details(driver, book_url, xpaths)\n",
    "            all_books_data.append(book_data)\n",
    "\n",
    "finally:\n",
    "    driver.quit() "
   ]
  },
  {
   "cell_type": "code",
   "execution_count": 71,
   "id": "33bce196-350a-445b-a473-20100300ca6e",
   "metadata": {},
   "outputs": [
    {
     "name": "stdout",
     "output_type": "stream",
     "text": [
      "Znaleziono 50 linków na stronie 196.\n"
     ]
    }
   ],
   "source": [
    "# Tworzenie przeglądarki tylko raz 40 (strona 196)\n",
    "options = webdriver.ChromeOptions()\n",
    "options.add_argument(\"--headless\")\n",
    "driver = webdriver.Chrome(service=Service(ChromeDriverManager().install()), options=options)\n",
    "\n",
    "try:\n",
    "    # Przejście przez strony z wynikami wyszukiwania\n",
    "    for page in range(196, 197):  # Możesz dostosować liczbę stron\n",
    "        page_url = base_url.format(page)\n",
    "        book_links = get_book_links(driver, page_url)\n",
    "        print(f\"Znaleziono {len(book_links)} linków na stronie {page}.\")\n",
    "        \n",
    "        for book_url in book_links:\n",
    "            book_data = scrape_book_details(driver, book_url, xpaths)\n",
    "            all_books_data.append(book_data)\n",
    "\n",
    "finally:\n",
    "    driver.quit() "
   ]
  },
  {
   "cell_type": "code",
   "execution_count": 76,
   "id": "331d22a3-55a0-4608-a4d6-380a03b23140",
   "metadata": {},
   "outputs": [
    {
     "name": "stdout",
     "output_type": "stream",
     "text": [
      "Znaleziono 50 linków na stronie 198.\n",
      "Znaleziono 0 linków na stronie 199.\n",
      "Znaleziono 0 linków na stronie 200.\n"
     ]
    }
   ],
   "source": [
    "# Tworzenie przeglądarki tylko raz 41 (strona 198,199,200)\n",
    "options = webdriver.ChromeOptions()\n",
    "options.add_argument(\"--headless\")\n",
    "driver = webdriver.Chrome(service=Service(ChromeDriverManager().install()), options=options)\n",
    "\n",
    "try:\n",
    "    # Przejście przez strony z wynikami wyszukiwania\n",
    "    for page in range(198, 201):  # Możesz dostosować liczbę stron\n",
    "        page_url = base_url.format(page)\n",
    "        book_links = get_book_links(driver, page_url)\n",
    "        print(f\"Znaleziono {len(book_links)} linków na stronie {page}.\")\n",
    "        \n",
    "        for book_url in book_links:\n",
    "            book_data = scrape_book_details(driver, book_url, xpaths)\n",
    "            all_books_data.append(book_data)\n",
    "\n",
    "finally:\n",
    "    driver.quit() "
   ]
  },
  {
   "cell_type": "code",
   "execution_count": 73,
   "id": "bb8a7844-edcb-452e-9d6b-cf113a6d0db0",
   "metadata": {},
   "outputs": [
    {
     "name": "stdout",
     "output_type": "stream",
     "text": [
      "Dane zostały zapisane do pliku 'book_do200_ubytki6.csv'\n"
     ]
    }
   ],
   "source": [
    "# Tworzenie DataFrame i zapis do CSV\n",
    "df = pd.DataFrame(all_books_data)\n",
    "df.to_csv(\"book_do200_ubytki6.csv\", index=False, encoding=\"utf-8\")\n",
    "\n",
    "print(\"Dane zostały zapisane do pliku 'book_do200_ubytki6.csv'\")"
   ]
  },
  {
   "cell_type": "code",
   "execution_count": 75,
   "id": "bfa1f7ca-3a0d-4ad5-8cc0-5860c92c2341",
   "metadata": {},
   "outputs": [
    {
     "name": "stdout",
     "output_type": "stream",
     "text": [
      "Znaleziono 50 linków na stronie 65.\n"
     ]
    }
   ],
   "source": [
    "# Tworzenie przeglądarki tylko raz 42 (strona 65)\n",
    "options = webdriver.ChromeOptions()\n",
    "options.add_argument(\"--headless\")\n",
    "driver = webdriver.Chrome(service=Service(ChromeDriverManager().install()), options=options)\n",
    "\n",
    "try:\n",
    "    # Przejście przez strony z wynikami wyszukiwania\n",
    "    for page in range(65, 66):  # Możesz dostosować liczbę stron\n",
    "        page_url = base_url.format(page)\n",
    "        book_links = get_book_links(driver, page_url)\n",
    "        print(f\"Znaleziono {len(book_links)} linków na stronie {page}.\")\n",
    "        \n",
    "        for book_url in book_links:\n",
    "            book_data = scrape_book_details(driver, book_url, xpaths)\n",
    "            all_books_data.append(book_data)\n",
    "\n",
    "finally:\n",
    "    driver.quit() "
   ]
  },
  {
   "cell_type": "code",
   "execution_count": 77,
   "id": "9480b4f0-b9dd-4963-9247-eab66b09b4ed",
   "metadata": {},
   "outputs": [
    {
     "name": "stdout",
     "output_type": "stream",
     "text": [
      "Znaleziono 50 linków na stronie 185.\n"
     ]
    }
   ],
   "source": [
    "# Tworzenie przeglądarki tylko raz 43 (strona 185)\n",
    "options = webdriver.ChromeOptions()\n",
    "options.add_argument(\"--headless\")\n",
    "driver = webdriver.Chrome(service=Service(ChromeDriverManager().install()), options=options)\n",
    "\n",
    "try:\n",
    "    # Przejście przez strony z wynikami wyszukiwania\n",
    "    for page in range(185, 186):  # Możesz dostosować liczbę stron\n",
    "        page_url = base_url.format(page)\n",
    "        book_links = get_book_links(driver, page_url)\n",
    "        print(f\"Znaleziono {len(book_links)} linków na stronie {page}.\")\n",
    "        \n",
    "        for book_url in book_links:\n",
    "            book_data = scrape_book_details(driver, book_url, xpaths)\n",
    "            all_books_data.append(book_data)\n",
    "\n",
    "finally:\n",
    "    driver.quit() "
   ]
  },
  {
   "cell_type": "code",
   "execution_count": 81,
   "id": "7e290cd7-7c00-4bef-aedb-f72cbe2c9641",
   "metadata": {},
   "outputs": [
    {
     "name": "stdout",
     "output_type": "stream",
     "text": [
      "Znaleziono 50 linków na stronie 199.\n"
     ]
    }
   ],
   "source": [
    "# Tworzenie przeglądarki tylko raz 44 (strona 199, 200)\n",
    "options = webdriver.ChromeOptions()\n",
    "options.add_argument(\"--headless\")\n",
    "driver = webdriver.Chrome(service=Service(ChromeDriverManager().install()), options=options)\n",
    "\n",
    "try:\n",
    "    # Przejście przez strony z wynikami wyszukiwania\n",
    "    for page in range(199, 200):  # Możesz dostosować liczbę stron\n",
    "        page_url = base_url.format(page)\n",
    "        book_links = get_book_links(driver, page_url)\n",
    "        print(f\"Znaleziono {len(book_links)} linków na stronie {page}.\")\n",
    "        \n",
    "        for book_url in book_links:\n",
    "            book_data = scrape_book_details(driver, book_url, xpaths)\n",
    "            all_books_data.append(book_data)\n",
    "\n",
    "finally:\n",
    "    driver.quit() "
   ]
  },
  {
   "cell_type": "code",
   "execution_count": 82,
   "id": "42b9c9d7-237c-4b3b-a60d-a036a3464105",
   "metadata": {},
   "outputs": [
    {
     "name": "stdout",
     "output_type": "stream",
     "text": [
      "Znaleziono 50 linków na stronie 200.\n"
     ]
    }
   ],
   "source": [
    "# Tworzenie przeglądarki tylko raz 44 (strona 200)\n",
    "options = webdriver.ChromeOptions()\n",
    "options.add_argument(\"--headless\")\n",
    "driver = webdriver.Chrome(service=Service(ChromeDriverManager().install()), options=options)\n",
    "\n",
    "try:\n",
    "    # Przejście przez strony z wynikami wyszukiwania\n",
    "    for page in range(200, 201):  # Możesz dostosować liczbę stron\n",
    "        page_url = base_url.format(page)\n",
    "        book_links = get_book_links(driver, page_url)\n",
    "        print(f\"Znaleziono {len(book_links)} linków na stronie {page}.\")\n",
    "        \n",
    "        for book_url in book_links:\n",
    "            book_data = scrape_book_details(driver, book_url, xpaths)\n",
    "            all_books_data.append(book_data)\n",
    "\n",
    "finally:\n",
    "    driver.quit() "
   ]
  },
  {
   "cell_type": "code",
   "execution_count": 84,
   "id": "93667e56-ce97-40ad-9555-620b5a6df97d",
   "metadata": {},
   "outputs": [
    {
     "name": "stdout",
     "output_type": "stream",
     "text": [
      "Dane zostały zapisane do pliku 'bookBeat_all2.csv'\n"
     ]
    }
   ],
   "source": [
    "# Tworzenie DataFrame i zapis do CSV\n",
    "df = pd.DataFrame(all_books_data)\n",
    "df.to_csv(\"bookBeat_all2.csv\", index=False, encoding=\"utf-8\")\n",
    "\n",
    "print(\"Dane zostały zapisane do pliku 'bookBeat_all2.csv'\")"
   ]
  }
 ],
 "metadata": {
  "kernelspec": {
   "display_name": "Python 3 (ipykernel)",
   "language": "python",
   "name": "python3"
  },
  "language_info": {
   "codemirror_mode": {
    "name": "ipython",
    "version": 3
   },
   "file_extension": ".py",
   "mimetype": "text/x-python",
   "name": "python",
   "nbconvert_exporter": "python",
   "pygments_lexer": "ipython3",
   "version": "3.13.1"
  }
 },
 "nbformat": 4,
 "nbformat_minor": 5
}
